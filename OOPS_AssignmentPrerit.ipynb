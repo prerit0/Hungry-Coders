{
  "cells": [
    {
      "cell_type": "markdown",
      "metadata": {
        "id": "3eW2BGeCnoFF"
      },
      "source": [
        "#  OOPS in Python Assignment\n",
        "\n",
        "Kindly Submit this assignment using this Google form link- https://forms.gle/4oedWNwR38Z8j1LeA\n",
        "\n",
        "\n"
      ]
    },
    {
      "cell_type": "markdown",
      "metadata": {
        "id": "-YeIqDCxnoFH"
      },
      "source": [
        "## Q1. Create a Simple Class\n",
        "\n",
        "Create a class named `Student` that stores the following information:\n",
        "- name\n",
        "- roll number\n",
        "\n",
        "Then, create one object of that class and print both attributes.\n",
        "\n",
        "**Hint:** Use `__init__` to initialize the attributes."
      ]
    },
    {
      "cell_type": "code",
      "metadata": {
        "id": "O2lkAu64noFH",
        "outputId": "19434d2a-f825-4195-dc58-7ddd9e931c96",
        "colab": {
          "base_uri": "https://localhost:8080/"
        }
      },
      "source": [
        "# Write your code here\n",
        "class Student:\n",
        "    def __init__(self, name, rollnumber):\n",
        "      self.name = name\n",
        "      self.rollnumber = rollnumber\n",
        "\n",
        "student1 = Student('Prerit', 21)\n",
        "print(student1.name, student1.rollnumber) # replace this line with your code\n",
        "\n",
        "# Example:\n",
        "# s1 = Student(\"Riya\", 101)\n",
        "# print(s1.name, s1.roll_number)"
      ],
      "execution_count": 4,
      "outputs": [
        {
          "output_type": "stream",
          "name": "stdout",
          "text": [
            "Prerit 21\n"
          ]
        }
      ]
    },
    {
      "cell_type": "markdown",
      "metadata": {
        "id": "8qtugqEInoFI"
      },
      "source": [
        "## Q2. Add a Method to a Class\n",
        "\n",
        "Extend your `Student` class to include a method named `display_info()` that prints the student's name and roll number in a proper sentence.\n",
        "\n",
        "**Goal:** Learn how to define methods inside a class."
      ]
    },
    {
      "cell_type": "code",
      "metadata": {
        "id": "a7QK5IBVnoFJ",
        "outputId": "9e66f515-2646-459a-f312-3fc4ef3b18f1",
        "colab": {
          "base_uri": "https://localhost:8080/"
        }
      },
      "source": [
        "# Write your code here\n",
        "class New(Student):\n",
        "    def display_info(self):\n",
        "      return f'Student Name: {self.name}, Roll No: {self.rollnumber}'\n",
        "\n",
        "student1 = New('Prerit', 21)\n",
        "print(student1.display_info())\n",
        "# Example output -> 'Student Name: Riya, Roll No: 101'\n"
      ],
      "execution_count": 26,
      "outputs": [
        {
          "output_type": "stream",
          "name": "stdout",
          "text": [
            "Student Name: Prerit, Roll No: 21\n"
          ]
        }
      ]
    },
    {
      "cell_type": "markdown",
      "metadata": {
        "id": "Hbxw2v30noFJ"
      },
      "source": [
        "## Q3. Employee Salary Class\n",
        "\n",
        "Create a class `Employee` that has:\n",
        "- `name` and `salary` attributes\n",
        "- a method `bonus()` that adds 10% bonus to the salary and prints the new salary.\n",
        "\n",
        "**Hint:** Bonus = `salary * 0.10`"
      ]
    },
    {
      "cell_type": "code",
      "metadata": {
        "id": "0hX7fLbEnoFJ",
        "outputId": "d990ce68-32db-47e8-ab3b-d80b194b01b1",
        "colab": {
          "base_uri": "https://localhost:8080/"
        }
      },
      "source": [
        "# Write your code here\n",
        "class Employee:\n",
        "  def __init__(self, name, salary):\n",
        "    self.name = name\n",
        "    self.salary = salary\n",
        "\n",
        "  def bonus(self):\n",
        "    bonus = self.salary * 0.10\n",
        "    return self.salary + bonus\n",
        "\n",
        "employee1 = Employee('Prerit', 100000)\n",
        "print(employee1.bonus())\n",
        "# Example:\n",
        "# e1 = Employee('Aman', 40000)\n",
        "# e1.bonus()  # should print new salary after adding bonus"
      ],
      "execution_count": 27,
      "outputs": [
        {
          "output_type": "stream",
          "name": "stdout",
          "text": [
            "110000.0\n"
          ]
        }
      ]
    },
    {
      "cell_type": "markdown",
      "metadata": {
        "id": "se7-VekQnoFJ"
      },
      "source": [
        "## Q4. Encapsulation Example\n",
        "\n",
        "Create a class `BankAccount` with a private attribute `__balance`.\n",
        "- Create methods `deposit(amount)` and `get_balance()`.\n",
        "- Prevent direct access to `__balance`.\n",
        "\n",
        "**Hint:** Use double underscores (`__`) before variable name to make it private."
      ]
    },
    {
      "cell_type": "code",
      "metadata": {
        "id": "pqSvbQRRnoFK",
        "outputId": "08acaca7-31b7-4c36-d8ec-453b740f1068",
        "colab": {
          "base_uri": "https://localhost:8080/"
        }
      },
      "source": [
        "# Write your code here\n",
        "class BankAccount():\n",
        "  def __init__(self, balance, amount):\n",
        "    self.__balance = balance\n",
        "    self.amount = amount\n",
        "  def deposit(self):\n",
        "    return self.__balance + self.amount\n",
        "  def get_balance(self):\n",
        "    return self.__balance\n",
        "\n",
        "acc = BankAccount(1000, 500)\n",
        "print(acc.deposit())\n",
        "print(acc.get_balance())\n",
        "# Example:\n",
        "# acc = BankAccount(1000)\n",
        "# acc.deposit(500)\n",
        "# acc.get_balance()  # should print 1500"
      ],
      "execution_count": 29,
      "outputs": [
        {
          "output_type": "stream",
          "name": "stdout",
          "text": [
            "1500\n",
            "1000\n"
          ]
        }
      ]
    },
    {
      "cell_type": "markdown",
      "metadata": {
        "id": "Yuy41M52noFK"
      },
      "source": [
        "## Q5. Inheritance Example (Simple One)\n",
        "\n",
        "Create two classes:\n",
        "- `Person` → has attribute `name` and method `speak()` that prints \"Hello, I am [name]\"\n",
        "- `DataAnalyst` → inherits from `Person` and adds a new method `analyze()` that prints \"Analyzing data using Python...\"\n",
        "\n",
        "Then create an object of `DataAnalyst` and call both methods."
      ]
    },
    {
      "cell_type": "code",
      "metadata": {
        "id": "XASy1ru9noFK",
        "outputId": "ec761a92-2ee4-4fa3-c7f6-5ec6f18be2f0",
        "colab": {
          "base_uri": "https://localhost:8080/"
        }
      },
      "source": [
        "# Write your code here\n",
        "class Person():\n",
        "  def __init__(self, name):\n",
        "    self.name = name\n",
        "  def speak(self):\n",
        "    return f'Hello, I am {self.name}'\n",
        "\n",
        "class DataAnalyst(Person):\n",
        "  def __init__(self, name):\n",
        "    super().__init__(name)\n",
        "\n",
        "  def analyze(self):\n",
        "    return 'Analyzing data using Python...'\n",
        "\n",
        "analyst = DataAnalyst('Prerit')\n",
        "print(analyst.speak())\n",
        "print(analyst.analyze())\n",
        "# Example Output:\n",
        "# Hello, I am Nikhil\n",
        "# Analyzing data using Python..."
      ],
      "execution_count": 32,
      "outputs": [
        {
          "output_type": "stream",
          "name": "stdout",
          "text": [
            "Hello, I am Prerit\n",
            "Analyzing data using Python...\n"
          ]
        }
      ]
    },
    {
      "cell_type": "markdown",
      "metadata": {
        "id": "1eYZ6i1SnoFK"
      },
      "source": [
        "## Q6. (Medium Level) Real-Life Problem — Product Sales Tracker\n",
        "\n",
        "You are working as a **Data Analyst** in a retail company.\n",
        "Create a class `Product` with attributes:\n",
        "- `name`\n",
        "- `price`\n",
        "- `quantity`\n",
        "\n",
        "Add the following methods:\n",
        "- `total_value()` → returns total value of product (price × quantity)\n",
        "- `apply_discount(percent)` → reduces the price by given percent.\n",
        "\n",
        "Finally, create two product objects and print their total values **before and after discount.**"
      ]
    },
    {
      "cell_type": "code",
      "metadata": {
        "id": "e_KbiMG6noFK",
        "outputId": "283ea931-a4df-44fc-fbec-cdc7b46a8f0e",
        "colab": {
          "base_uri": "https://localhost:8080/"
        }
      },
      "source": [
        "# Write your code here\n",
        "class Product():\n",
        "  def __init__(self, name, price, quantity):\n",
        "    self.name = name\n",
        "    self.price = price\n",
        "    self.quantity = quantity\n",
        "\n",
        "  def total_value(self):\n",
        "    return self.price * self.quantity\n",
        "\n",
        "  def apply_discount(self):\n",
        "    percent = 10\n",
        "    discount = self.price * (percent/100)\n",
        "    final = self.price - discount\n",
        "    return final * self.quantity\n",
        "\n",
        "obj1 = Product('iPhone', 100000, 5)\n",
        "\n",
        "print(f'Total value before discount: {obj1.total_value()}')\n",
        "print(f'Total value after 10% discount: {obj1.apply_discount()}')\n",
        "# Example Output:\n",
        "# Total value before discount: 2000\n",
        "# Total value after 10% discount: 1800"
      ],
      "execution_count": 41,
      "outputs": [
        {
          "output_type": "stream",
          "name": "stdout",
          "text": [
            "Total value before discount: 500000\n",
            "Total value after 10% discount: 450000.0\n"
          ]
        }
      ]
    },
    {
      "cell_type": "markdown",
      "metadata": {
        "id": "FFjJ0An4noFK"
      },
      "source": [
        "\n",
        "\n",
        "##_Remember: Practice builds clarity._"
      ]
    }
  ],
  "metadata": {
    "kernelspec": {
      "display_name": "Python 3",
      "language": "python",
      "name": "python3"
    },
    "language_info": {
      "name": "python",
      "version": "3.10"
    },
    "colab": {
      "provenance": []
    }
  },
  "nbformat": 4,
  "nbformat_minor": 0
}