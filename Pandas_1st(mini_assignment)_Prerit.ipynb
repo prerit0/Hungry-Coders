{
  "cells": [
    {
      "cell_type": "markdown",
      "id": "aed467f0",
      "metadata": {
        "id": "aed467f0"
      },
      "source": [
        "# Pandas First Exercises\n",
        "Dear Students this notebook contains simple exercises for beginners to practice basic Pandas operations such as creating Series, DataFrames, saving files, and importing data."
      ]
    },
    {
      "cell_type": "markdown",
      "id": "99bfd544",
      "metadata": {
        "id": "99bfd544"
      },
      "source": [
        "### Exercise 1: Creating Pandas Series"
      ]
    },
    {
      "cell_type": "markdown",
      "id": "7b27040c",
      "metadata": {
        "id": "7b27040c"
      },
      "source": [
        "1. Create a Pandas Series containing the marks of 5 students in Maths.\n",
        "2. Create a Pandas Series that stores 5 city names.\n",
        "3. Create a Pandas Series with 5 different floating-point numbers representing temperature readings."
      ]
    },
    {
      "cell_type": "code",
      "source": [
        "#answer here\n",
        "import pandas as pd\n",
        "\n",
        "# student_marks = pd.Series([85, 92, 78, 90, 88])\n",
        "# cities = pd.Series(['Delhi', 'Mumbai', 'Banglore', 'Goa', 'Kashmir'])\n",
        "# temperature = pd.Series([98.1, 99.1, 100.2, 104.5, 97.1])"
      ],
      "metadata": {
        "id": "OK7V5fd5kmrn"
      },
      "id": "OK7V5fd5kmrn",
      "execution_count": 1,
      "outputs": []
    },
    {
      "cell_type": "code",
      "source": [
        "student_marks = pd.Series([85, 92, 78, 90, 88])\n",
        "print(student_marks)"
      ],
      "metadata": {
        "colab": {
          "base_uri": "https://localhost:8080/"
        },
        "id": "X7MblWsPJzYz",
        "outputId": "0d4a3894-835e-4d14-f325-46184a3bbdc3"
      },
      "id": "X7MblWsPJzYz",
      "execution_count": 2,
      "outputs": [
        {
          "output_type": "stream",
          "name": "stdout",
          "text": [
            "0    85\n",
            "1    92\n",
            "2    78\n",
            "3    90\n",
            "4    88\n",
            "dtype: int64\n"
          ]
        }
      ]
    },
    {
      "cell_type": "code",
      "source": [
        "cities = pd.Series(['Delhi', 'Mumbai', 'Banglore', 'Goa', 'Kashmir'])\n",
        "print(cities)"
      ],
      "metadata": {
        "colab": {
          "base_uri": "https://localhost:8080/"
        },
        "id": "WCBQwNysJzjW",
        "outputId": "2c6162e3-e274-4282-9bb2-6d87decfae6d"
      },
      "id": "WCBQwNysJzjW",
      "execution_count": 3,
      "outputs": [
        {
          "output_type": "stream",
          "name": "stdout",
          "text": [
            "0       Delhi\n",
            "1      Mumbai\n",
            "2    Banglore\n",
            "3         Goa\n",
            "4     Kashmir\n",
            "dtype: object\n"
          ]
        }
      ]
    },
    {
      "cell_type": "code",
      "source": [
        "temperature = pd.Series([98.1, 99.1, 100.2, 104.5, 97.1])\n",
        "print(temperature)"
      ],
      "metadata": {
        "colab": {
          "base_uri": "https://localhost:8080/"
        },
        "id": "-lHxOOqrJzsU",
        "outputId": "55b50448-f044-4ca6-9613-f7ff7c26e4c4"
      },
      "id": "-lHxOOqrJzsU",
      "execution_count": 4,
      "outputs": [
        {
          "output_type": "stream",
          "name": "stdout",
          "text": [
            "0     98.1\n",
            "1     99.1\n",
            "2    100.2\n",
            "3    104.5\n",
            "4     97.1\n",
            "dtype: float64\n"
          ]
        }
      ]
    },
    {
      "cell_type": "markdown",
      "id": "40f70f70",
      "metadata": {
        "id": "40f70f70"
      },
      "source": [
        "### Exercise 2: Creating DataFrames from Series"
      ]
    },
    {
      "cell_type": "markdown",
      "id": "dcbe763b",
      "metadata": {
        "id": "dcbe763b"
      },
      "source": [
        "1. Create two Series: one containing student names and another containing their ages. Combine them into a single DataFrame.\n",
        "2. Create three Series: 'Product Name', 'Price', and 'Quantity'. Combine them into one DataFrame and display it."
      ]
    },
    {
      "cell_type": "code",
      "source": [
        "#answer here\n",
        "Name = pd.Series(['Prerit', 'Ayush', 'Ishan', 'Aadi', 'Arnav'])\n",
        "Age = pd.Series([22, 22, 19, 20, 12])\n",
        "Student_Details = pd.concat({'Name': Name, 'Age': Age}, axis = 1)\n",
        "print(Student_Details)\n",
        "\n",
        "\n"
      ],
      "metadata": {
        "id": "_E_7kzvVkp7e",
        "colab": {
          "base_uri": "https://localhost:8080/"
        },
        "outputId": "c657c214-41e6-4d5b-8ffd-7ffe7baba910"
      },
      "id": "_E_7kzvVkp7e",
      "execution_count": 5,
      "outputs": [
        {
          "output_type": "stream",
          "name": "stdout",
          "text": [
            "     Name  Age\n",
            "0  Prerit   22\n",
            "1   Ayush   22\n",
            "2   Ishan   19\n",
            "3    Aadi   20\n",
            "4   Arnav   12\n"
          ]
        }
      ]
    },
    {
      "cell_type": "code",
      "source": [
        "\n",
        "Product_Name = pd.Series(['Pen', 'Pencil','Eraser'])\n",
        "Price = pd.Series([20, 10, 5])\n",
        "Quantity = pd.Series([100, 200, 100])\n",
        "\n",
        "Products = pd.concat({'Product':Product_Name, 'Price':Price, 'Quantity': Quantity}, axis = 1)\n",
        "print(Products)"
      ],
      "metadata": {
        "colab": {
          "base_uri": "https://localhost:8080/"
        },
        "id": "dYlU7_JwJxPn",
        "outputId": "04e8d5fc-12e5-4c74-8c39-15f6cbddf6a3"
      },
      "id": "dYlU7_JwJxPn",
      "execution_count": 6,
      "outputs": [
        {
          "output_type": "stream",
          "name": "stdout",
          "text": [
            "  Product  Price  Quantity\n",
            "0     Pen     20       100\n",
            "1  Pencil     10       200\n",
            "2  Eraser      5       100\n"
          ]
        }
      ]
    },
    {
      "cell_type": "markdown",
      "id": "13c74f3d",
      "metadata": {
        "id": "13c74f3d"
      },
      "source": [
        "### Exercise 3: Creating DataFrames from Dictionaries"
      ]
    },
    {
      "cell_type": "markdown",
      "id": "14cd2ed5",
      "metadata": {
        "id": "14cd2ed5"
      },
      "source": [
        "1. Create a dictionary with keys as 'Name', 'Age', and 'City', each containing a list of 3 values. Convert it into a DataFrame.\n",
        "2. Create a dictionary with keys 'Product', 'Category', and 'Price'. Convert it into a DataFrame and print it."
      ]
    },
    {
      "cell_type": "code",
      "source": [
        "#answer here\n",
        "details1 = {\n",
        "    'Name' : ['Prerit', 'Ayush', 'Ishan'],\n",
        "    'Age' : [22, 22, 19],\n",
        "    'City' : ['Delhi', 'Mumbai', 'Banglore']\n",
        "}\n",
        "details1_final = pd.DataFrame(details1)\n",
        "print(details1_final)"
      ],
      "metadata": {
        "id": "JLxq4HlGkqig",
        "colab": {
          "base_uri": "https://localhost:8080/"
        },
        "outputId": "db4f97af-787a-4cd6-a2d4-30651967746a"
      },
      "id": "JLxq4HlGkqig",
      "execution_count": 7,
      "outputs": [
        {
          "output_type": "stream",
          "name": "stdout",
          "text": [
            "     Name  Age      City\n",
            "0  Prerit   22     Delhi\n",
            "1   Ayush   22    Mumbai\n",
            "2   Ishan   19  Banglore\n"
          ]
        }
      ]
    },
    {
      "cell_type": "code",
      "source": [
        "details2 = {\n",
        "    'Product' : ['Pen', 'Pencil', 'Eraser'],\n",
        "    'Category' : ['Stationary', 'Stationary', 'Stationary'],\n",
        "    'Price' : [20, 10, 5]\n",
        "}\n",
        "details2_final = pd.DataFrame(details2)\n",
        "print(details2_final)"
      ],
      "metadata": {
        "colab": {
          "base_uri": "https://localhost:8080/"
        },
        "id": "d2b81fcsKMqH",
        "outputId": "0aebd3a2-4603-4a2b-fdea-182521de01c5"
      },
      "id": "d2b81fcsKMqH",
      "execution_count": 8,
      "outputs": [
        {
          "output_type": "stream",
          "name": "stdout",
          "text": [
            "  Product    Category  Price\n",
            "0     Pen  Stationary     20\n",
            "1  Pencil  Stationary     10\n",
            "2  Eraser  Stationary      5\n"
          ]
        }
      ]
    },
    {
      "cell_type": "markdown",
      "id": "76437b78",
      "metadata": {
        "id": "76437b78"
      },
      "source": [
        "### Exercise 4: Saving DataFrames to CSV and Excel"
      ]
    },
    {
      "cell_type": "markdown",
      "id": "a7b957b3",
      "metadata": {
        "id": "a7b957b3"
      },
      "source": [
        "1. Save any one of your created DataFrames into a CSV file named 'students.csv'.\n",
        "2. Save another DataFrame into an Excel file named 'products.xlsx'."
      ]
    },
    {
      "cell_type": "code",
      "source": [
        "#answer here\n",
        "save1 = Student_Details.to_csv('students.csv')\n"
      ],
      "metadata": {
        "id": "1ewTIFMykrER"
      },
      "id": "1ewTIFMykrER",
      "execution_count": 9,
      "outputs": []
    },
    {
      "cell_type": "code",
      "source": [
        "save2 = Products.to_excel('products.xlsx')"
      ],
      "metadata": {
        "id": "n-MYTPVvM8eY"
      },
      "id": "n-MYTPVvM8eY",
      "execution_count": 10,
      "outputs": []
    },
    {
      "cell_type": "markdown",
      "id": "003c619d",
      "metadata": {
        "id": "003c619d"
      },
      "source": [
        "### Exercise 5: Reading Data from Files"
      ]
    },
    {
      "cell_type": "markdown",
      "id": "acbd6ed2",
      "metadata": {
        "id": "acbd6ed2"
      },
      "source": [
        "1. Use Pandas to read the CSV file 'students.csv' that you created earlier.\n",
        "2. Use Pandas to read the Excel file 'products.xlsx' that you created earlier."
      ]
    },
    {
      "cell_type": "code",
      "source": [
        "#answer here\n",
        "read1 = pd.read_csv('students.csv')\n",
        "print(read1)"
      ],
      "metadata": {
        "id": "4abENRlTkrsx",
        "colab": {
          "base_uri": "https://localhost:8080/"
        },
        "outputId": "c43eeb59-c2fe-4af0-a545-f168a6156093"
      },
      "id": "4abENRlTkrsx",
      "execution_count": 11,
      "outputs": [
        {
          "output_type": "stream",
          "name": "stdout",
          "text": [
            "   Unnamed: 0    Name  Age\n",
            "0           0  Prerit   22\n",
            "1           1   Ayush   22\n",
            "2           2   Ishan   19\n",
            "3           3    Aadi   20\n",
            "4           4   Arnav   12\n"
          ]
        }
      ]
    },
    {
      "cell_type": "code",
      "source": [
        "read2 = pd.read_excel('products.xlsx')\n",
        "print(read2)"
      ],
      "metadata": {
        "colab": {
          "base_uri": "https://localhost:8080/"
        },
        "id": "0XfBnFUBNLXS",
        "outputId": "343064b2-5601-44b1-b7d5-8ecb54f6ff1d"
      },
      "id": "0XfBnFUBNLXS",
      "execution_count": 12,
      "outputs": [
        {
          "output_type": "stream",
          "name": "stdout",
          "text": [
            "   Unnamed: 0 Product  Price  Quantity\n",
            "0           0     Pen     20       100\n",
            "1           1  Pencil     10       200\n",
            "2           2  Eraser      5       100\n"
          ]
        }
      ]
    }
  ],
  "metadata": {
    "colab": {
      "provenance": []
    },
    "language_info": {
      "name": "python"
    },
    "kernelspec": {
      "name": "python3",
      "display_name": "Python 3"
    }
  },
  "nbformat": 4,
  "nbformat_minor": 5
}