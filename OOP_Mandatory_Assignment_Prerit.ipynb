{
  "cells": [
    {
      "cell_type": "markdown",
      "id": "e9977157",
      "metadata": {
        "id": "e9977157"
      },
      "source": [
        "# Object-Oriented Programming (OOP) - Practice Assignment\n",
        "\n",
        "This assignment will help you understand the basics of Object-Oriented Programming (OOP) in Python.  \n",
        "Each question is written in a simple way so that you know exactly what to do.\n",
        "\n",
        "**Structure:**\n",
        "- 6 Easy Questions  \n",
        "- 2 Medium Questions  \n",
        "- 2 Hard Questions\n",
        "\n",
        "Follow each question carefully and try to run the examples step by step.\n"
      ]
    },
    {
      "cell_type": "markdown",
      "id": "522a3c58",
      "metadata": {
        "id": "522a3c58"
      },
      "source": [
        "### Question 1 (Easy)\n",
        "**Create a Class and Object**\n",
        "\n",
        "Create a class named `Student` with one attribute `name`.  \n",
        "Then create an object of this class and print the student's name.\n",
        "\n",
        "*Hint:* Use the `__init__` method to initialize the name attribute."
      ]
    },
    {
      "cell_type": "code",
      "source": [
        "#answer here\n",
        "class Student():\n",
        "  def __init__(self, name):\n",
        "    self.name = name\n",
        "  def __str__(self):\n",
        "    return f'{self.name}'\n",
        "\n",
        "name1 = Student('Prerit')\n",
        "print(name1)"
      ],
      "metadata": {
        "id": "eoxW1xeIzyDT",
        "colab": {
          "base_uri": "https://localhost:8080/"
        },
        "outputId": "4222ab54-dbc5-41e6-e7bc-1405866ff27f"
      },
      "id": "eoxW1xeIzyDT",
      "execution_count": 3,
      "outputs": [
        {
          "output_type": "stream",
          "name": "stdout",
          "text": [
            "Prerit\n"
          ]
        }
      ]
    },
    {
      "cell_type": "markdown",
      "id": "62eb0fc1",
      "metadata": {
        "id": "62eb0fc1"
      },
      "source": [
        "### Question 2 (Easy)\n",
        "**Add Multiple Attributes**\n",
        "\n",
        "Create a class `Car` that has two attributes: `brand` and `year`.  \n",
        "Create two objects of this class for two different cars and print their details using `print()`."
      ]
    },
    {
      "cell_type": "code",
      "source": [
        "#answer here\n",
        "class Car():\n",
        "  def __init__(self, brand, year):\n",
        "    self.brand = brand\n",
        "    self.year = year\n",
        "\n",
        "  def __str__(self):\n",
        "    return f'Car details - > {self.brand} ({self.year})'\n",
        "\n",
        "car1 = Car('Buggati', 2003)\n",
        "car2 = Car('GTR', 2005)\n",
        "print(car1)\n",
        "print(car2)"
      ],
      "metadata": {
        "id": "aDLB9Ourz1fb",
        "colab": {
          "base_uri": "https://localhost:8080/"
        },
        "outputId": "3d12d051-3490-47f3-947e-0f4e6bc7266c"
      },
      "id": "aDLB9Ourz1fb",
      "execution_count": 7,
      "outputs": [
        {
          "output_type": "stream",
          "name": "stdout",
          "text": [
            "Car details - > Buggati (2003)\n",
            "Car details - > GTR (2005)\n"
          ]
        }
      ]
    },
    {
      "cell_type": "markdown",
      "id": "009120a2",
      "metadata": {
        "id": "009120a2"
      },
      "source": [
        "### Question 3 (Easy)\n",
        "**Methods in a Class**\n",
        "\n",
        "Create a class `Circle` with one attribute `radius`.  \n",
        "Add a method `area()` that returns the area of the circle.\n",
        "\n",
        "*Formula:* Area = π × radius²"
      ]
    },
    {
      "cell_type": "code",
      "source": [
        "#answer here\n",
        "import math\n",
        "value = math.pi\n",
        "\n",
        "class Cirle():\n",
        "  def __init__(self, radius):\n",
        "    self.radius = radius\n",
        "\n",
        "  def area(self):\n",
        "    return f'Area of the circle is {round(value*(self.radius**2),2)}'\n",
        "\n",
        "circle1 = Cirle(5)\n",
        "print(circle1.area())"
      ],
      "metadata": {
        "id": "yNLySqc9z2PO",
        "colab": {
          "base_uri": "https://localhost:8080/"
        },
        "outputId": "765817f5-a8b3-4d0f-dc04-9c6f39e2d90b"
      },
      "id": "yNLySqc9z2PO",
      "execution_count": 10,
      "outputs": [
        {
          "output_type": "stream",
          "name": "stdout",
          "text": [
            "Area of the circle is 78.54\n"
          ]
        }
      ]
    },
    {
      "cell_type": "markdown",
      "id": "0b760f6d",
      "metadata": {
        "id": "0b760f6d"
      },
      "source": [
        "### Question 4 (Easy)\n",
        "**Default and Parameterized Constructor**\n",
        "\n",
        "Create a class `Book` that takes the book title and author name as parameters when creating an object.  \n",
        "Also, create one object without any arguments and set default values like `'Unknown Title'` and `'Unknown Author'`."
      ]
    },
    {
      "cell_type": "code",
      "source": [
        "#answer here\n",
        "class Book():\n",
        "  def __init__(self, title = 'Unknown Title', author = 'Unknown Author'):\n",
        "    self.title = title\n",
        "    self.author = author\n",
        "  def __str__(self):\n",
        "    return f'Book details -> {self.title}, {self.author}'\n",
        "\n",
        "book1 = Book()\n",
        "print(book1)\n"
      ],
      "metadata": {
        "id": "pbYx_DZDz2xR",
        "colab": {
          "base_uri": "https://localhost:8080/"
        },
        "outputId": "425efa1b-92d5-4b39-cd15-2792852876e7"
      },
      "id": "pbYx_DZDz2xR",
      "execution_count": 12,
      "outputs": [
        {
          "output_type": "stream",
          "name": "stdout",
          "text": [
            "Book details -> Unknown Title, Unknown Author\n"
          ]
        }
      ]
    },
    {
      "cell_type": "markdown",
      "id": "67ac94fd",
      "metadata": {
        "id": "67ac94fd"
      },
      "source": [
        "### Question 5 (Easy)\n",
        "**Use of Self Keyword**\n",
        "\n",
        "Create a class `Employee` that has a method `display()` which prints `'This is an Employee class'`.  \n",
        "Then create one object and call the method using that object."
      ]
    },
    {
      "cell_type": "code",
      "source": [
        "#answer here\n",
        "class Employee():\n",
        "  def display(self):\n",
        "    return f'This is an Employee class'\n",
        "emp1 = Employee()\n",
        "print(emp1.display())"
      ],
      "metadata": {
        "id": "8JXQn5LCz3Qp",
        "colab": {
          "base_uri": "https://localhost:8080/"
        },
        "outputId": "f6e663e3-deb8-4a50-8616-630e9ba38a6d"
      },
      "id": "8JXQn5LCz3Qp",
      "execution_count": 15,
      "outputs": [
        {
          "output_type": "stream",
          "name": "stdout",
          "text": [
            "This is an Employee class\n"
          ]
        }
      ]
    },
    {
      "cell_type": "markdown",
      "id": "dce22c96",
      "metadata": {
        "id": "dce22c96"
      },
      "source": [
        "### Question 6 (Easy)\n",
        "**Simple Calculator Class**\n",
        "\n",
        "Create a class `Calculator` with methods for addition, subtraction, multiplication, and division.  \n",
        "Each method should take two numbers as parameters and return the result."
      ]
    },
    {
      "cell_type": "code",
      "source": [
        "#answer here\n",
        "class Calculator():\n",
        "  def __init__(self, num1 , num2):\n",
        "    self.num1 = num1\n",
        "    self.num2 = num2\n",
        "  def addition(self):\n",
        "    return f'Addition of {self.num1} and {self.num2} is {self.num1 + self.num2}'\n",
        "  def subtraction(self):\n",
        "    return f'Subtraction of {self.num1} and {self.num2} is {self.num1 - self.num2}'\n",
        "  def multiplication(self):\n",
        "    return f'Multiplication of {self.num1} and {self.num2} is {self.num1 * self.num2}'\n",
        "  def division(self):\n",
        "    return f'Division of {self.num1} and {self.num2} is {self.num1 / self.num2}'\n",
        "\n",
        "cal1 = Calculator(10, 5)\n",
        "print(cal1.addition())\n",
        "print(cal1.subtraction())\n",
        "print(cal1.multiplication())\n",
        "print(cal1.division())"
      ],
      "metadata": {
        "id": "WeDQIvebz3uF",
        "colab": {
          "base_uri": "https://localhost:8080/"
        },
        "outputId": "00a2459e-2dcb-4150-e223-fe44a17c1d94"
      },
      "id": "WeDQIvebz3uF",
      "execution_count": 22,
      "outputs": [
        {
          "output_type": "stream",
          "name": "stdout",
          "text": [
            "Addition of 10 and 5 is 15\n",
            "Subtraction of 10 and 5 is 5\n",
            "Multiplication of 10 and 5 is 50\n",
            "Division of 10 and 5 is 2.0\n"
          ]
        }
      ]
    },
    {
      "cell_type": "markdown",
      "id": "d5f60974",
      "metadata": {
        "id": "d5f60974"
      },
      "source": [
        "### Question 7 (Medium)\n",
        "**Working with Multiple Objects**\n",
        "\n",
        "Create a class `Student` with attributes `name`, `marks1`, `marks2`, and `marks3`.  \n",
        "Add a method `average()` that returns the average marks of the student.  \n",
        "Create objects for three students and print their average marks."
      ]
    },
    {
      "cell_type": "code",
      "source": [
        "#answer here\n",
        "class Student():\n",
        "  def __init__(self, name, marks1, marks2, marks3):\n",
        "    self.name = name\n",
        "    self.marks1 = marks1\n",
        "    self.marks2 = marks2\n",
        "    self.marks3 = marks3\n",
        "  def average(self):\n",
        "    return f'The average marks of {self.name} is {round((self.marks1 + self.marks2 + self.marks3)/3,2)}'\n",
        "student1 = Student('Prerit', 80, 70, 90)\n",
        "print(student1.average())"
      ],
      "metadata": {
        "id": "un7JLb6dz4MD",
        "colab": {
          "base_uri": "https://localhost:8080/"
        },
        "outputId": "548c3fd8-bee8-45a8-d524-128fa4a50133"
      },
      "id": "un7JLb6dz4MD",
      "execution_count": 23,
      "outputs": [
        {
          "output_type": "stream",
          "name": "stdout",
          "text": [
            "The average marks of Prerit is 80.0\n"
          ]
        }
      ]
    },
    {
      "cell_type": "markdown",
      "id": "6047ad11",
      "metadata": {
        "id": "6047ad11"
      },
      "source": [
        "### Question 8 (Medium)\n",
        "**Inheritance Concept**\n",
        "\n",
        "Create a base class `Person` with an attribute `name` and a method `show_name()`.  \n",
        "Then create a derived class `Teacher` that adds a new attribute `subject` and a method `show_subject()`.  \n",
        "Create an object of `Teacher` and call both methods."
      ]
    },
    {
      "cell_type": "code",
      "source": [
        "#answer here\n",
        "class Person():\n",
        "  def __init__(self, name):\n",
        "    self.name = name\n",
        "  def show_name(self):\n",
        "    return f'The name is {self.name}'\n",
        "\n",
        "class Teacher(Person):\n",
        "  def __init__(self, name, subject):\n",
        "    super().__init__(name)\n",
        "    self.subject = subject\n",
        "  def show_subject(self):\n",
        "    return f'The subject is {self.subject}'\n",
        "\n",
        "teacher1 = Teacher('Prerit', 'Python')\n",
        "print(teacher1.show_name())\n",
        "print(teacher1.show_subject())"
      ],
      "metadata": {
        "id": "3RF85lsjz4sT",
        "colab": {
          "base_uri": "https://localhost:8080/"
        },
        "outputId": "9934bf48-8645-4092-9d1d-bebdb29ed5dc"
      },
      "id": "3RF85lsjz4sT",
      "execution_count": 25,
      "outputs": [
        {
          "output_type": "stream",
          "name": "stdout",
          "text": [
            "The name is Prerit\n",
            "The subject is Python\n"
          ]
        }
      ]
    },
    {
      "cell_type": "markdown",
      "id": "062ac860",
      "metadata": {
        "id": "062ac860"
      },
      "source": [
        "### Question 9 (Hard)\n",
        "**Encapsulation Example**\n",
        "\n",
        "Create a class `BankAccount` with attributes `__balance` (private) and `account_holder`.  \n",
        "Add methods `deposit(amount)` and `withdraw(amount)` to update the balance safely.  \n",
        "Print the final balance only through a method `show_balance()`."
      ]
    },
    {
      "cell_type": "code",
      "source": [
        "#answer here\n",
        "class BankAccount():\n",
        "  def __init__(self, account_holder, balance):\n",
        "    self.account_holder = account_holder\n",
        "    self.__balance = balance\n",
        "  def deposit(self, amount):\n",
        "    return f'the deposit amount is {amount} and total balance is {self.__balance + amount}'\n",
        "  def withdraw(self, amount):\n",
        "    return f'the withdraw amount is {amount} and the total balance is {self.__balance - amount}'\n",
        "  def show_balance(self):\n",
        "    return f'the balance is {self.__balance}'\n",
        "\n",
        "bank1 = BankAccount('Prerit', 1000)\n",
        "print(bank1.deposit(500))\n",
        "print(bank1.withdraw(200))\n",
        "print(bank1.show_balance())"
      ],
      "metadata": {
        "id": "F6gWsUOFz5XN",
        "colab": {
          "base_uri": "https://localhost:8080/"
        },
        "outputId": "c703dbf5-816f-45f1-ed7c-cb4059248560"
      },
      "id": "F6gWsUOFz5XN",
      "execution_count": 27,
      "outputs": [
        {
          "output_type": "stream",
          "name": "stdout",
          "text": [
            "the deposit amount is 500 and total balance is 1500\n",
            "the withdraw amount is 200 and the total balance is 800\n",
            "the balance is 1000\n"
          ]
        }
      ]
    },
    {
      "cell_type": "markdown",
      "id": "f10a7d88",
      "metadata": {
        "id": "f10a7d88"
      },
      "source": [
        "### Question 10 (Hard)\n",
        "**Polymorphism Example**\n",
        "\n",
        "Create two classes: `Dog` and `Cat`.  \n",
        "Both should have a method named `speak()` that prints the sound of the animal.  \n",
        "Write a function `animal_sound(animal)` that calls the `speak()` method of any animal passed to it.\n",
        "\n",
        "*Hint:* This shows how the same method name can have different behaviors depending on the object type."
      ]
    },
    {
      "cell_type": "code",
      "source": [
        "#answer here\n",
        "class Dog:\n",
        "    def speak(self):\n",
        "        print(\"Woof! Woof!\")\n",
        "\n",
        "class Cat:\n",
        "    def speak(self):\n",
        "        print(\"Meow! Meow!\")\n",
        "\n",
        "def animal_sound(animal):\n",
        "    animal.speak()\n",
        "\n",
        "dog = Dog()\n",
        "cat = Cat()\n",
        "\n",
        "animal_sound(dog)\n",
        "animal_sound(cat)\n"
      ],
      "metadata": {
        "id": "tvczT-hEz6Kd",
        "colab": {
          "base_uri": "https://localhost:8080/"
        },
        "outputId": "8ea2f973-975e-4f2e-dbbb-0a80f9b5d608"
      },
      "id": "tvczT-hEz6Kd",
      "execution_count": 30,
      "outputs": [
        {
          "output_type": "stream",
          "name": "stdout",
          "text": [
            "Woof! Woof!\n",
            "Meow! Meow!\n"
          ]
        }
      ]
    }
  ],
  "metadata": {
    "colab": {
      "provenance": []
    },
    "language_info": {
      "name": "python"
    },
    "kernelspec": {
      "name": "python3",
      "display_name": "Python 3"
    }
  },
  "nbformat": 4,
  "nbformat_minor": 5
}