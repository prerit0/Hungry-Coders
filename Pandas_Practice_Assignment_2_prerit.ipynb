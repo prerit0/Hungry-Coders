{
  "cells": [
    {
      "cell_type": "markdown",
      "id": "9b4db2fd",
      "metadata": {
        "id": "9b4db2fd"
      },
      "source": [
        "# Pandas Practice Notebook\n",
        "Dear Students this notebook will help you practice Important Pandas operations step-by-step.\n"
      ]
    },
    {
      "cell_type": "markdown",
      "id": "48c112e5",
      "metadata": {
        "id": "48c112e5"
      },
      "source": [
        "## 1. File Import using Pandas\n",
        "Below are some examples to import files in Pandas and practice questions."
      ]
    },
    {
      "cell_type": "code",
      "execution_count": 3,
      "id": "866ca894",
      "metadata": {
        "id": "866ca894"
      },
      "outputs": [],
      "source": [
        "# Example: Importing CSV, Excel, and JSON files\n",
        "import pandas as pd\n",
        "\n",
        "# Read CSV\n",
        "df_csv = pd.read_csv('/content/Student_CSV.csv')\n",
        "\n",
        "# Read Excel\n",
        "df_excel = pd.read_excel('/content/Student_XLSX.xlsx')\n",
        "\n",
        "# Read JSON\n",
        "df_json = pd.read_json('/content/Student_JSON.json')"
      ]
    },
    {
      "cell_type": "markdown",
      "id": "057ad770",
      "metadata": {
        "id": "057ad770"
      },
      "source": [
        "### Practice Questions\n",
        "1. Import the file `sales.csv` and display the first 5 rows.\n",
        "2. Import the Excel file `students.xlsx` and check its columns.\n",
        "3. Import any JSON file and find its shape."
      ]
    },
    {
      "cell_type": "code",
      "execution_count": 4,
      "id": "9ddeae3b",
      "metadata": {
        "id": "9ddeae3b",
        "outputId": "70f73a4e-b878-415f-8a31-0e49a06785da",
        "colab": {
          "base_uri": "https://localhost:8080/",
          "height": 206
        }
      },
      "outputs": [
        {
          "output_type": "execute_result",
          "data": {
            "text/plain": [
              "  StudentID       Name       City  Age  Score  JoinedDate  IsActive\n",
              "0      S001  Student_1       Pune   26  58.55  2024-01-01      True\n",
              "1      S002  Student_2    Kolkata   22  76.41  2024-01-02     False\n",
              "2      S003  Student_3    Kolkata   18  92.66  2024-01-03     False\n",
              "3      S004  Student_4  Bengaluru   22  58.34  2024-01-04     False\n",
              "4      S005  Student_5      Delhi   29  81.87  2024-01-05      True"
            ],
            "text/html": [
              "\n",
              "  <div id=\"df-2012b8cb-f902-4029-80b6-c4092742279a\" class=\"colab-df-container\">\n",
              "    <div>\n",
              "<style scoped>\n",
              "    .dataframe tbody tr th:only-of-type {\n",
              "        vertical-align: middle;\n",
              "    }\n",
              "\n",
              "    .dataframe tbody tr th {\n",
              "        vertical-align: top;\n",
              "    }\n",
              "\n",
              "    .dataframe thead th {\n",
              "        text-align: right;\n",
              "    }\n",
              "</style>\n",
              "<table border=\"1\" class=\"dataframe\">\n",
              "  <thead>\n",
              "    <tr style=\"text-align: right;\">\n",
              "      <th></th>\n",
              "      <th>StudentID</th>\n",
              "      <th>Name</th>\n",
              "      <th>City</th>\n",
              "      <th>Age</th>\n",
              "      <th>Score</th>\n",
              "      <th>JoinedDate</th>\n",
              "      <th>IsActive</th>\n",
              "    </tr>\n",
              "  </thead>\n",
              "  <tbody>\n",
              "    <tr>\n",
              "      <th>0</th>\n",
              "      <td>S001</td>\n",
              "      <td>Student_1</td>\n",
              "      <td>Pune</td>\n",
              "      <td>26</td>\n",
              "      <td>58.55</td>\n",
              "      <td>2024-01-01</td>\n",
              "      <td>True</td>\n",
              "    </tr>\n",
              "    <tr>\n",
              "      <th>1</th>\n",
              "      <td>S002</td>\n",
              "      <td>Student_2</td>\n",
              "      <td>Kolkata</td>\n",
              "      <td>22</td>\n",
              "      <td>76.41</td>\n",
              "      <td>2024-01-02</td>\n",
              "      <td>False</td>\n",
              "    </tr>\n",
              "    <tr>\n",
              "      <th>2</th>\n",
              "      <td>S003</td>\n",
              "      <td>Student_3</td>\n",
              "      <td>Kolkata</td>\n",
              "      <td>18</td>\n",
              "      <td>92.66</td>\n",
              "      <td>2024-01-03</td>\n",
              "      <td>False</td>\n",
              "    </tr>\n",
              "    <tr>\n",
              "      <th>3</th>\n",
              "      <td>S004</td>\n",
              "      <td>Student_4</td>\n",
              "      <td>Bengaluru</td>\n",
              "      <td>22</td>\n",
              "      <td>58.34</td>\n",
              "      <td>2024-01-04</td>\n",
              "      <td>False</td>\n",
              "    </tr>\n",
              "    <tr>\n",
              "      <th>4</th>\n",
              "      <td>S005</td>\n",
              "      <td>Student_5</td>\n",
              "      <td>Delhi</td>\n",
              "      <td>29</td>\n",
              "      <td>81.87</td>\n",
              "      <td>2024-01-05</td>\n",
              "      <td>True</td>\n",
              "    </tr>\n",
              "  </tbody>\n",
              "</table>\n",
              "</div>\n",
              "    <div class=\"colab-df-buttons\">\n",
              "\n",
              "  <div class=\"colab-df-container\">\n",
              "    <button class=\"colab-df-convert\" onclick=\"convertToInteractive('df-2012b8cb-f902-4029-80b6-c4092742279a')\"\n",
              "            title=\"Convert this dataframe to an interactive table.\"\n",
              "            style=\"display:none;\">\n",
              "\n",
              "  <svg xmlns=\"http://www.w3.org/2000/svg\" height=\"24px\" viewBox=\"0 -960 960 960\">\n",
              "    <path d=\"M120-120v-720h720v720H120Zm60-500h600v-160H180v160Zm220 220h160v-160H400v160Zm0 220h160v-160H400v160ZM180-400h160v-160H180v160Zm440 0h160v-160H620v160ZM180-180h160v-160H180v160Zm440 0h160v-160H620v160Z\"/>\n",
              "  </svg>\n",
              "    </button>\n",
              "\n",
              "  <style>\n",
              "    .colab-df-container {\n",
              "      display:flex;\n",
              "      gap: 12px;\n",
              "    }\n",
              "\n",
              "    .colab-df-convert {\n",
              "      background-color: #E8F0FE;\n",
              "      border: none;\n",
              "      border-radius: 50%;\n",
              "      cursor: pointer;\n",
              "      display: none;\n",
              "      fill: #1967D2;\n",
              "      height: 32px;\n",
              "      padding: 0 0 0 0;\n",
              "      width: 32px;\n",
              "    }\n",
              "\n",
              "    .colab-df-convert:hover {\n",
              "      background-color: #E2EBFA;\n",
              "      box-shadow: 0px 1px 2px rgba(60, 64, 67, 0.3), 0px 1px 3px 1px rgba(60, 64, 67, 0.15);\n",
              "      fill: #174EA6;\n",
              "    }\n",
              "\n",
              "    .colab-df-buttons div {\n",
              "      margin-bottom: 4px;\n",
              "    }\n",
              "\n",
              "    [theme=dark] .colab-df-convert {\n",
              "      background-color: #3B4455;\n",
              "      fill: #D2E3FC;\n",
              "    }\n",
              "\n",
              "    [theme=dark] .colab-df-convert:hover {\n",
              "      background-color: #434B5C;\n",
              "      box-shadow: 0px 1px 3px 1px rgba(0, 0, 0, 0.15);\n",
              "      filter: drop-shadow(0px 1px 2px rgba(0, 0, 0, 0.3));\n",
              "      fill: #FFFFFF;\n",
              "    }\n",
              "  </style>\n",
              "\n",
              "    <script>\n",
              "      const buttonEl =\n",
              "        document.querySelector('#df-2012b8cb-f902-4029-80b6-c4092742279a button.colab-df-convert');\n",
              "      buttonEl.style.display =\n",
              "        google.colab.kernel.accessAllowed ? 'block' : 'none';\n",
              "\n",
              "      async function convertToInteractive(key) {\n",
              "        const element = document.querySelector('#df-2012b8cb-f902-4029-80b6-c4092742279a');\n",
              "        const dataTable =\n",
              "          await google.colab.kernel.invokeFunction('convertToInteractive',\n",
              "                                                    [key], {});\n",
              "        if (!dataTable) return;\n",
              "\n",
              "        const docLinkHtml = 'Like what you see? Visit the ' +\n",
              "          '<a target=\"_blank\" href=https://colab.research.google.com/notebooks/data_table.ipynb>data table notebook</a>'\n",
              "          + ' to learn more about interactive tables.';\n",
              "        element.innerHTML = '';\n",
              "        dataTable['output_type'] = 'display_data';\n",
              "        await google.colab.output.renderOutput(dataTable, element);\n",
              "        const docLink = document.createElement('div');\n",
              "        docLink.innerHTML = docLinkHtml;\n",
              "        element.appendChild(docLink);\n",
              "      }\n",
              "    </script>\n",
              "  </div>\n",
              "\n",
              "\n",
              "    <div id=\"df-1f007fdb-fcfb-408f-aa9f-0c024f7d1273\">\n",
              "      <button class=\"colab-df-quickchart\" onclick=\"quickchart('df-1f007fdb-fcfb-408f-aa9f-0c024f7d1273')\"\n",
              "                title=\"Suggest charts\"\n",
              "                style=\"display:none;\">\n",
              "\n",
              "<svg xmlns=\"http://www.w3.org/2000/svg\" height=\"24px\"viewBox=\"0 0 24 24\"\n",
              "     width=\"24px\">\n",
              "    <g>\n",
              "        <path d=\"M19 3H5c-1.1 0-2 .9-2 2v14c0 1.1.9 2 2 2h14c1.1 0 2-.9 2-2V5c0-1.1-.9-2-2-2zM9 17H7v-7h2v7zm4 0h-2V7h2v10zm4 0h-2v-4h2v4z\"/>\n",
              "    </g>\n",
              "</svg>\n",
              "      </button>\n",
              "\n",
              "<style>\n",
              "  .colab-df-quickchart {\n",
              "      --bg-color: #E8F0FE;\n",
              "      --fill-color: #1967D2;\n",
              "      --hover-bg-color: #E2EBFA;\n",
              "      --hover-fill-color: #174EA6;\n",
              "      --disabled-fill-color: #AAA;\n",
              "      --disabled-bg-color: #DDD;\n",
              "  }\n",
              "\n",
              "  [theme=dark] .colab-df-quickchart {\n",
              "      --bg-color: #3B4455;\n",
              "      --fill-color: #D2E3FC;\n",
              "      --hover-bg-color: #434B5C;\n",
              "      --hover-fill-color: #FFFFFF;\n",
              "      --disabled-bg-color: #3B4455;\n",
              "      --disabled-fill-color: #666;\n",
              "  }\n",
              "\n",
              "  .colab-df-quickchart {\n",
              "    background-color: var(--bg-color);\n",
              "    border: none;\n",
              "    border-radius: 50%;\n",
              "    cursor: pointer;\n",
              "    display: none;\n",
              "    fill: var(--fill-color);\n",
              "    height: 32px;\n",
              "    padding: 0;\n",
              "    width: 32px;\n",
              "  }\n",
              "\n",
              "  .colab-df-quickchart:hover {\n",
              "    background-color: var(--hover-bg-color);\n",
              "    box-shadow: 0 1px 2px rgba(60, 64, 67, 0.3), 0 1px 3px 1px rgba(60, 64, 67, 0.15);\n",
              "    fill: var(--button-hover-fill-color);\n",
              "  }\n",
              "\n",
              "  .colab-df-quickchart-complete:disabled,\n",
              "  .colab-df-quickchart-complete:disabled:hover {\n",
              "    background-color: var(--disabled-bg-color);\n",
              "    fill: var(--disabled-fill-color);\n",
              "    box-shadow: none;\n",
              "  }\n",
              "\n",
              "  .colab-df-spinner {\n",
              "    border: 2px solid var(--fill-color);\n",
              "    border-color: transparent;\n",
              "    border-bottom-color: var(--fill-color);\n",
              "    animation:\n",
              "      spin 1s steps(1) infinite;\n",
              "  }\n",
              "\n",
              "  @keyframes spin {\n",
              "    0% {\n",
              "      border-color: transparent;\n",
              "      border-bottom-color: var(--fill-color);\n",
              "      border-left-color: var(--fill-color);\n",
              "    }\n",
              "    20% {\n",
              "      border-color: transparent;\n",
              "      border-left-color: var(--fill-color);\n",
              "      border-top-color: var(--fill-color);\n",
              "    }\n",
              "    30% {\n",
              "      border-color: transparent;\n",
              "      border-left-color: var(--fill-color);\n",
              "      border-top-color: var(--fill-color);\n",
              "      border-right-color: var(--fill-color);\n",
              "    }\n",
              "    40% {\n",
              "      border-color: transparent;\n",
              "      border-right-color: var(--fill-color);\n",
              "      border-top-color: var(--fill-color);\n",
              "    }\n",
              "    60% {\n",
              "      border-color: transparent;\n",
              "      border-right-color: var(--fill-color);\n",
              "    }\n",
              "    80% {\n",
              "      border-color: transparent;\n",
              "      border-right-color: var(--fill-color);\n",
              "      border-bottom-color: var(--fill-color);\n",
              "    }\n",
              "    90% {\n",
              "      border-color: transparent;\n",
              "      border-bottom-color: var(--fill-color);\n",
              "    }\n",
              "  }\n",
              "</style>\n",
              "\n",
              "      <script>\n",
              "        async function quickchart(key) {\n",
              "          const quickchartButtonEl =\n",
              "            document.querySelector('#' + key + ' button');\n",
              "          quickchartButtonEl.disabled = true;  // To prevent multiple clicks.\n",
              "          quickchartButtonEl.classList.add('colab-df-spinner');\n",
              "          try {\n",
              "            const charts = await google.colab.kernel.invokeFunction(\n",
              "                'suggestCharts', [key], {});\n",
              "          } catch (error) {\n",
              "            console.error('Error during call to suggestCharts:', error);\n",
              "          }\n",
              "          quickchartButtonEl.classList.remove('colab-df-spinner');\n",
              "          quickchartButtonEl.classList.add('colab-df-quickchart-complete');\n",
              "        }\n",
              "        (() => {\n",
              "          let quickchartButtonEl =\n",
              "            document.querySelector('#df-1f007fdb-fcfb-408f-aa9f-0c024f7d1273 button');\n",
              "          quickchartButtonEl.style.display =\n",
              "            google.colab.kernel.accessAllowed ? 'block' : 'none';\n",
              "        })();\n",
              "      </script>\n",
              "    </div>\n",
              "\n",
              "    </div>\n",
              "  </div>\n"
            ],
            "application/vnd.google.colaboratory.intrinsic+json": {
              "type": "dataframe",
              "variable_name": "df",
              "summary": "{\n  \"name\": \"df\",\n  \"rows\": 100,\n  \"fields\": [\n    {\n      \"column\": \"StudentID\",\n      \"properties\": {\n        \"dtype\": \"string\",\n        \"num_unique_values\": 100,\n        \"samples\": [\n          \"S084\",\n          \"S054\",\n          \"S071\"\n        ],\n        \"semantic_type\": \"\",\n        \"description\": \"\"\n      }\n    },\n    {\n      \"column\": \"Name\",\n      \"properties\": {\n        \"dtype\": \"string\",\n        \"num_unique_values\": 100,\n        \"samples\": [\n          \"Student_84\",\n          \"Student_54\",\n          \"Student_71\"\n        ],\n        \"semantic_type\": \"\",\n        \"description\": \"\"\n      }\n    },\n    {\n      \"column\": \"City\",\n      \"properties\": {\n        \"dtype\": \"category\",\n        \"num_unique_values\": 7,\n        \"samples\": [\n          \"Pune\",\n          \"Kolkata\",\n          \"Hyderabad\"\n        ],\n        \"semantic_type\": \"\",\n        \"description\": \"\"\n      }\n    },\n    {\n      \"column\": \"Age\",\n      \"properties\": {\n        \"dtype\": \"number\",\n        \"std\": 3,\n        \"min\": 18,\n        \"max\": 30,\n        \"num_unique_values\": 13,\n        \"samples\": [\n          23,\n          30,\n          26\n        ],\n        \"semantic_type\": \"\",\n        \"description\": \"\"\n      }\n    },\n    {\n      \"column\": \"Score\",\n      \"properties\": {\n        \"dtype\": \"number\",\n        \"std\": 17.53553394877632,\n        \"min\": 40.24,\n        \"max\": 99.93,\n        \"num_unique_values\": 100,\n        \"samples\": [\n          95.21,\n          91.29,\n          70.38\n        ],\n        \"semantic_type\": \"\",\n        \"description\": \"\"\n      }\n    },\n    {\n      \"column\": \"JoinedDate\",\n      \"properties\": {\n        \"dtype\": \"object\",\n        \"num_unique_values\": 100,\n        \"samples\": [\n          \"2024-03-24\",\n          \"2024-02-23\",\n          \"2024-03-11\"\n        ],\n        \"semantic_type\": \"\",\n        \"description\": \"\"\n      }\n    },\n    {\n      \"column\": \"IsActive\",\n      \"properties\": {\n        \"dtype\": \"boolean\",\n        \"num_unique_values\": 2,\n        \"samples\": [\n          false,\n          true\n        ],\n        \"semantic_type\": \"\",\n        \"description\": \"\"\n      }\n    }\n  ]\n}"
            }
          },
          "metadata": {},
          "execution_count": 4
        }
      ],
      "source": [
        "# Answer here\n",
        "df = pd.read_csv('/content/Student_CSV.csv')\n",
        "df.head()"
      ]
    },
    {
      "cell_type": "markdown",
      "id": "3b7b9584",
      "metadata": {
        "id": "3b7b9584"
      },
      "source": [
        "## 2. File Export using Pandas\n",
        "You can export data to different formats like CSV, Excel, and JSON."
      ]
    },
    {
      "cell_type": "code",
      "execution_count": 5,
      "id": "d16eda12",
      "metadata": {
        "id": "d16eda12"
      },
      "outputs": [],
      "source": [
        "# Example: Exporting DataFrame to different formats\n",
        "df.to_csv('output.csv', index=False)\n",
        "df.to_excel('output.xlsx', index=False)\n",
        "df.to_json('output.json')"
      ]
    },
    {
      "cell_type": "markdown",
      "id": "fe8c3ce0",
      "metadata": {
        "id": "fe8c3ce0"
      },
      "source": [
        "### Practice Questions\n",
        "1. Export any given DataFrame to CSV format without index.\n",
        "2. Export the same DataFrame to Excel with the name 'Sheet1'.\n",
        "3. Export to JSON format with indentation."
      ]
    },
    {
      "cell_type": "code",
      "execution_count": 23,
      "id": "d47e324e",
      "metadata": {
        "id": "d47e324e"
      },
      "outputs": [],
      "source": [
        "# Answer here\n",
        "mdata ={\n",
        "        'Name' : ['Prerit', 'Ayush', 'Aadi', 'Ishaan'],\n",
        "        'Age' : [19, 28, 55 ,23],\n",
        "        'City': ['Delhi', 'UP', 'Gujarat', 'Haryana']\n",
        "}\n",
        "\n",
        "finaldata = pd.DataFrame(mdata)\n",
        "finaldata.to_csv('finaldata.csv', index=False)\n",
        "finaldata.to_excel('finaldata.xlsx', sheet_name='Sheet1')\n",
        "finaldata.to_json('finaldata.json', indent=4)"
      ]
    },
    {
      "cell_type": "markdown",
      "id": "f1d3b073",
      "metadata": {
        "id": "f1d3b073"
      },
      "source": [
        "## 3. Creating Series and DataFrames"
      ]
    },
    {
      "cell_type": "code",
      "execution_count": 8,
      "id": "b3fd56bb",
      "metadata": {
        "id": "b3fd56bb",
        "outputId": "3bb8120d-a670-46be-8233-e61f26dcefb2",
        "colab": {
          "base_uri": "https://localhost:8080/"
        }
      },
      "outputs": [
        {
          "output_type": "stream",
          "name": "stdout",
          "text": [
            "0    10\n",
            "1    20\n",
            "2    30\n",
            "Name: Sales, dtype: int64\n",
            "   Name  Age\n",
            "0  Amit   22\n",
            "1  Riya   24\n",
            "2  John   26\n"
          ]
        }
      ],
      "source": [
        "# Example: Creating Series and DataFrame\n",
        "series = pd.Series([10, 20, 30], name='Sales')\n",
        "data = {\n",
        "        'Name': ['Amit', 'Riya', 'John'],\n",
        "        'Age': [22, 24, 26]\n",
        "      }\n",
        "df = pd.DataFrame(data)\n",
        "print(series)\n",
        "print(df)"
      ]
    },
    {
      "cell_type": "markdown",
      "id": "0cea8700",
      "metadata": {
        "id": "0cea8700"
      },
      "source": [
        "### Practice Questions\n",
        "1. Create a Series of 5 numbers named 'Marks'.\n",
        "2. Create a DataFrame of 3 students with columns 'Name', 'Score', 'City'.\n",
        "3. Print shape, head, and describe of your DataFrame."
      ]
    },
    {
      "cell_type": "code",
      "execution_count": 12,
      "id": "d632d104",
      "metadata": {
        "id": "d632d104",
        "outputId": "e1165a9d-3c78-44f4-ab74-c669da24fa46",
        "colab": {
          "base_uri": "https://localhost:8080/"
        }
      },
      "outputs": [
        {
          "output_type": "stream",
          "name": "stdout",
          "text": [
            "0    1\n",
            "1    2\n",
            "2    3\n",
            "3    4\n",
            "4    5\n",
            "Name: Marks, dtype: int64\n",
            "(3, 3)\n",
            "     Name  Score   City\n",
            "0  Prerit    100  Delhi\n",
            "1   Ayush     99     UP\n",
            "2    Aadi     98     UP\n",
            "       Score\n",
            "count    3.0\n",
            "mean    99.0\n",
            "std      1.0\n",
            "min     98.0\n",
            "25%     98.5\n",
            "50%     99.0\n",
            "75%     99.5\n",
            "max    100.0\n"
          ]
        }
      ],
      "source": [
        "# Answer here\n",
        "marks = pd.Series([1,2,3,4,5], name = 'Marks')\n",
        "print(marks)\n",
        "\n",
        "studnets = {\n",
        "    'Name': ['Prerit', 'Ayush', 'Aadi'],\n",
        "    'Score': [100, 99, 98],\n",
        "    'City': ['Delhi', 'UP', 'UP']\n",
        "}\n",
        "\n",
        "final_students =  pd.DataFrame(studnets)\n",
        "print(final_students.shape)\n",
        "print(final_students.head())\n",
        "print(final_students.describe())"
      ]
    },
    {
      "cell_type": "markdown",
      "id": "8f361dcd",
      "metadata": {
        "id": "8f361dcd"
      },
      "source": [
        "## 4. Indexing and Slicing in Pandas"
      ]
    },
    {
      "cell_type": "code",
      "execution_count": 15,
      "id": "92a3a837",
      "metadata": {
        "id": "92a3a837",
        "outputId": "2149118d-e2f6-4b4d-94a5-ee34ada58ca3",
        "colab": {
          "base_uri": "https://localhost:8080/",
          "height": 143
        }
      },
      "outputs": [
        {
          "output_type": "execute_result",
          "data": {
            "text/plain": [
              "   Name  Age\n",
              "0  Amit   22\n",
              "1  Riya   24\n",
              "2  John   26"
            ],
            "text/html": [
              "\n",
              "  <div id=\"df-f9942bdf-2ef4-45ac-bbeb-3b952f1038f4\" class=\"colab-df-container\">\n",
              "    <div>\n",
              "<style scoped>\n",
              "    .dataframe tbody tr th:only-of-type {\n",
              "        vertical-align: middle;\n",
              "    }\n",
              "\n",
              "    .dataframe tbody tr th {\n",
              "        vertical-align: top;\n",
              "    }\n",
              "\n",
              "    .dataframe thead th {\n",
              "        text-align: right;\n",
              "    }\n",
              "</style>\n",
              "<table border=\"1\" class=\"dataframe\">\n",
              "  <thead>\n",
              "    <tr style=\"text-align: right;\">\n",
              "      <th></th>\n",
              "      <th>Name</th>\n",
              "      <th>Age</th>\n",
              "    </tr>\n",
              "  </thead>\n",
              "  <tbody>\n",
              "    <tr>\n",
              "      <th>0</th>\n",
              "      <td>Amit</td>\n",
              "      <td>22</td>\n",
              "    </tr>\n",
              "    <tr>\n",
              "      <th>1</th>\n",
              "      <td>Riya</td>\n",
              "      <td>24</td>\n",
              "    </tr>\n",
              "    <tr>\n",
              "      <th>2</th>\n",
              "      <td>John</td>\n",
              "      <td>26</td>\n",
              "    </tr>\n",
              "  </tbody>\n",
              "</table>\n",
              "</div>\n",
              "    <div class=\"colab-df-buttons\">\n",
              "\n",
              "  <div class=\"colab-df-container\">\n",
              "    <button class=\"colab-df-convert\" onclick=\"convertToInteractive('df-f9942bdf-2ef4-45ac-bbeb-3b952f1038f4')\"\n",
              "            title=\"Convert this dataframe to an interactive table.\"\n",
              "            style=\"display:none;\">\n",
              "\n",
              "  <svg xmlns=\"http://www.w3.org/2000/svg\" height=\"24px\" viewBox=\"0 -960 960 960\">\n",
              "    <path d=\"M120-120v-720h720v720H120Zm60-500h600v-160H180v160Zm220 220h160v-160H400v160Zm0 220h160v-160H400v160ZM180-400h160v-160H180v160Zm440 0h160v-160H620v160ZM180-180h160v-160H180v160Zm440 0h160v-160H620v160Z\"/>\n",
              "  </svg>\n",
              "    </button>\n",
              "\n",
              "  <style>\n",
              "    .colab-df-container {\n",
              "      display:flex;\n",
              "      gap: 12px;\n",
              "    }\n",
              "\n",
              "    .colab-df-convert {\n",
              "      background-color: #E8F0FE;\n",
              "      border: none;\n",
              "      border-radius: 50%;\n",
              "      cursor: pointer;\n",
              "      display: none;\n",
              "      fill: #1967D2;\n",
              "      height: 32px;\n",
              "      padding: 0 0 0 0;\n",
              "      width: 32px;\n",
              "    }\n",
              "\n",
              "    .colab-df-convert:hover {\n",
              "      background-color: #E2EBFA;\n",
              "      box-shadow: 0px 1px 2px rgba(60, 64, 67, 0.3), 0px 1px 3px 1px rgba(60, 64, 67, 0.15);\n",
              "      fill: #174EA6;\n",
              "    }\n",
              "\n",
              "    .colab-df-buttons div {\n",
              "      margin-bottom: 4px;\n",
              "    }\n",
              "\n",
              "    [theme=dark] .colab-df-convert {\n",
              "      background-color: #3B4455;\n",
              "      fill: #D2E3FC;\n",
              "    }\n",
              "\n",
              "    [theme=dark] .colab-df-convert:hover {\n",
              "      background-color: #434B5C;\n",
              "      box-shadow: 0px 1px 3px 1px rgba(0, 0, 0, 0.15);\n",
              "      filter: drop-shadow(0px 1px 2px rgba(0, 0, 0, 0.3));\n",
              "      fill: #FFFFFF;\n",
              "    }\n",
              "  </style>\n",
              "\n",
              "    <script>\n",
              "      const buttonEl =\n",
              "        document.querySelector('#df-f9942bdf-2ef4-45ac-bbeb-3b952f1038f4 button.colab-df-convert');\n",
              "      buttonEl.style.display =\n",
              "        google.colab.kernel.accessAllowed ? 'block' : 'none';\n",
              "\n",
              "      async function convertToInteractive(key) {\n",
              "        const element = document.querySelector('#df-f9942bdf-2ef4-45ac-bbeb-3b952f1038f4');\n",
              "        const dataTable =\n",
              "          await google.colab.kernel.invokeFunction('convertToInteractive',\n",
              "                                                    [key], {});\n",
              "        if (!dataTable) return;\n",
              "\n",
              "        const docLinkHtml = 'Like what you see? Visit the ' +\n",
              "          '<a target=\"_blank\" href=https://colab.research.google.com/notebooks/data_table.ipynb>data table notebook</a>'\n",
              "          + ' to learn more about interactive tables.';\n",
              "        element.innerHTML = '';\n",
              "        dataTable['output_type'] = 'display_data';\n",
              "        await google.colab.output.renderOutput(dataTable, element);\n",
              "        const docLink = document.createElement('div');\n",
              "        docLink.innerHTML = docLinkHtml;\n",
              "        element.appendChild(docLink);\n",
              "      }\n",
              "    </script>\n",
              "  </div>\n",
              "\n",
              "\n",
              "    <div id=\"df-3a49bc16-8ee3-4856-a542-11438cd049c8\">\n",
              "      <button class=\"colab-df-quickchart\" onclick=\"quickchart('df-3a49bc16-8ee3-4856-a542-11438cd049c8')\"\n",
              "                title=\"Suggest charts\"\n",
              "                style=\"display:none;\">\n",
              "\n",
              "<svg xmlns=\"http://www.w3.org/2000/svg\" height=\"24px\"viewBox=\"0 0 24 24\"\n",
              "     width=\"24px\">\n",
              "    <g>\n",
              "        <path d=\"M19 3H5c-1.1 0-2 .9-2 2v14c0 1.1.9 2 2 2h14c1.1 0 2-.9 2-2V5c0-1.1-.9-2-2-2zM9 17H7v-7h2v7zm4 0h-2V7h2v10zm4 0h-2v-4h2v4z\"/>\n",
              "    </g>\n",
              "</svg>\n",
              "      </button>\n",
              "\n",
              "<style>\n",
              "  .colab-df-quickchart {\n",
              "      --bg-color: #E8F0FE;\n",
              "      --fill-color: #1967D2;\n",
              "      --hover-bg-color: #E2EBFA;\n",
              "      --hover-fill-color: #174EA6;\n",
              "      --disabled-fill-color: #AAA;\n",
              "      --disabled-bg-color: #DDD;\n",
              "  }\n",
              "\n",
              "  [theme=dark] .colab-df-quickchart {\n",
              "      --bg-color: #3B4455;\n",
              "      --fill-color: #D2E3FC;\n",
              "      --hover-bg-color: #434B5C;\n",
              "      --hover-fill-color: #FFFFFF;\n",
              "      --disabled-bg-color: #3B4455;\n",
              "      --disabled-fill-color: #666;\n",
              "  }\n",
              "\n",
              "  .colab-df-quickchart {\n",
              "    background-color: var(--bg-color);\n",
              "    border: none;\n",
              "    border-radius: 50%;\n",
              "    cursor: pointer;\n",
              "    display: none;\n",
              "    fill: var(--fill-color);\n",
              "    height: 32px;\n",
              "    padding: 0;\n",
              "    width: 32px;\n",
              "  }\n",
              "\n",
              "  .colab-df-quickchart:hover {\n",
              "    background-color: var(--hover-bg-color);\n",
              "    box-shadow: 0 1px 2px rgba(60, 64, 67, 0.3), 0 1px 3px 1px rgba(60, 64, 67, 0.15);\n",
              "    fill: var(--button-hover-fill-color);\n",
              "  }\n",
              "\n",
              "  .colab-df-quickchart-complete:disabled,\n",
              "  .colab-df-quickchart-complete:disabled:hover {\n",
              "    background-color: var(--disabled-bg-color);\n",
              "    fill: var(--disabled-fill-color);\n",
              "    box-shadow: none;\n",
              "  }\n",
              "\n",
              "  .colab-df-spinner {\n",
              "    border: 2px solid var(--fill-color);\n",
              "    border-color: transparent;\n",
              "    border-bottom-color: var(--fill-color);\n",
              "    animation:\n",
              "      spin 1s steps(1) infinite;\n",
              "  }\n",
              "\n",
              "  @keyframes spin {\n",
              "    0% {\n",
              "      border-color: transparent;\n",
              "      border-bottom-color: var(--fill-color);\n",
              "      border-left-color: var(--fill-color);\n",
              "    }\n",
              "    20% {\n",
              "      border-color: transparent;\n",
              "      border-left-color: var(--fill-color);\n",
              "      border-top-color: var(--fill-color);\n",
              "    }\n",
              "    30% {\n",
              "      border-color: transparent;\n",
              "      border-left-color: var(--fill-color);\n",
              "      border-top-color: var(--fill-color);\n",
              "      border-right-color: var(--fill-color);\n",
              "    }\n",
              "    40% {\n",
              "      border-color: transparent;\n",
              "      border-right-color: var(--fill-color);\n",
              "      border-top-color: var(--fill-color);\n",
              "    }\n",
              "    60% {\n",
              "      border-color: transparent;\n",
              "      border-right-color: var(--fill-color);\n",
              "    }\n",
              "    80% {\n",
              "      border-color: transparent;\n",
              "      border-right-color: var(--fill-color);\n",
              "      border-bottom-color: var(--fill-color);\n",
              "    }\n",
              "    90% {\n",
              "      border-color: transparent;\n",
              "      border-bottom-color: var(--fill-color);\n",
              "    }\n",
              "  }\n",
              "</style>\n",
              "\n",
              "      <script>\n",
              "        async function quickchart(key) {\n",
              "          const quickchartButtonEl =\n",
              "            document.querySelector('#' + key + ' button');\n",
              "          quickchartButtonEl.disabled = true;  // To prevent multiple clicks.\n",
              "          quickchartButtonEl.classList.add('colab-df-spinner');\n",
              "          try {\n",
              "            const charts = await google.colab.kernel.invokeFunction(\n",
              "                'suggestCharts', [key], {});\n",
              "          } catch (error) {\n",
              "            console.error('Error during call to suggestCharts:', error);\n",
              "          }\n",
              "          quickchartButtonEl.classList.remove('colab-df-spinner');\n",
              "          quickchartButtonEl.classList.add('colab-df-quickchart-complete');\n",
              "        }\n",
              "        (() => {\n",
              "          let quickchartButtonEl =\n",
              "            document.querySelector('#df-3a49bc16-8ee3-4856-a542-11438cd049c8 button');\n",
              "          quickchartButtonEl.style.display =\n",
              "            google.colab.kernel.accessAllowed ? 'block' : 'none';\n",
              "        })();\n",
              "      </script>\n",
              "    </div>\n",
              "\n",
              "    </div>\n",
              "  </div>\n"
            ],
            "application/vnd.google.colaboratory.intrinsic+json": {
              "type": "dataframe",
              "summary": "{\n  \"name\": \"# df[df['Age'] > 22]\",\n  \"rows\": 3,\n  \"fields\": [\n    {\n      \"column\": \"Name\",\n      \"properties\": {\n        \"dtype\": \"string\",\n        \"num_unique_values\": 3,\n        \"samples\": [\n          \"Amit\",\n          \"Riya\",\n          \"John\"\n        ],\n        \"semantic_type\": \"\",\n        \"description\": \"\"\n      }\n    },\n    {\n      \"column\": \"Age\",\n      \"properties\": {\n        \"dtype\": \"number\",\n        \"std\": 2,\n        \"min\": 22,\n        \"max\": 26,\n        \"num_unique_values\": 3,\n        \"samples\": [\n          22,\n          24,\n          26\n        ],\n        \"semantic_type\": \"\",\n        \"description\": \"\"\n      }\n    }\n  ]\n}"
            }
          },
          "metadata": {},
          "execution_count": 15
        }
      ],
      "source": [
        "# Example: Indexing and Slicing\n",
        "df['Name']\n",
        "df[['Name', 'Age']]\n",
        "df.iloc[0:2]\n",
        "df.loc[df['Age'] > 22]\n",
        "df[df['Age'] > 22]"
      ]
    },
    {
      "cell_type": "markdown",
      "id": "becaca7d",
      "metadata": {
        "id": "becaca7d"
      },
      "source": [
        "### Practice Questions\n",
        "1. Select only the 'Score' column from your DataFrame.\n",
        "2. Retrieve rows from index 1 to 3.\n",
        "3. Filter rows where 'Age' > 23."
      ]
    },
    {
      "cell_type": "code",
      "execution_count": 17,
      "id": "71a08a4c",
      "metadata": {
        "id": "71a08a4c",
        "outputId": "47747128-34a5-4130-d8af-3ea342edc918",
        "colab": {
          "base_uri": "https://localhost:8080/"
        }
      },
      "outputs": [
        {
          "output_type": "stream",
          "name": "stdout",
          "text": [
            "0    89\n",
            "1    76\n",
            "2    91\n",
            "3    85\n",
            "Name: Score, dtype: int64\n",
            "     Name  Age  Score\n",
            "1   Ayush   22     76\n",
            "2    Aadi   19     91\n",
            "3  Ishaan   28     85\n",
            "     Name  Age  Score\n",
            "0  Prerit   35     89\n",
            "3  Ishaan   28     85\n"
          ]
        }
      ],
      "source": [
        "# Answer here\n",
        "data = {\n",
        "    'Name': ['Prerit', 'Ayush', 'Aadi', 'Ishaan'],\n",
        "    'Age': [35, 22, 19, 28],\n",
        "    'Score': [89, 76, 91, 85]\n",
        "}\n",
        "\n",
        "df = pd.DataFrame(data)\n",
        "print(df['Score'])\n",
        "print(df.iloc[1:4])\n",
        "print(df[df['Age'] > 23])"
      ]
    },
    {
      "cell_type": "markdown",
      "id": "ed78de56",
      "metadata": {
        "id": "ed78de56"
      },
      "source": [
        "## 5. Merging and Concatenation"
      ]
    },
    {
      "cell_type": "code",
      "execution_count": 21,
      "id": "7b819932",
      "metadata": {
        "id": "7b819932",
        "outputId": "6292907e-de15-4b2d-d29e-f86443d6973c",
        "colab": {
          "base_uri": "https://localhost:8080/"
        }
      },
      "outputs": [
        {
          "output_type": "stream",
          "name": "stdout",
          "text": [
            "   ID Name  Score\n",
            "0   1    A     85\n",
            "1   2    B     90\n",
            "   ID Name  Score\n",
            "0   1    A    NaN\n",
            "1   2    B    NaN\n",
            "2   1  NaN   85.0\n",
            "3   2  NaN   90.0\n"
          ]
        }
      ],
      "source": [
        "# Example: Merge and Concat\n",
        "df1 = pd.DataFrame({'ID': [1,2], 'Name': ['A', 'B']})\n",
        "df2 = pd.DataFrame({'ID': [1,2], 'Score': [85, 90]})\n",
        "merged = pd.merge(df1, df2, on='ID')\n",
        "print(merged)\n",
        "\n",
        "# Concat\n",
        "df3 = pd.concat([df1, df2], axis=0, ignore_index=True)\n",
        "print(df3)"
      ]
    },
    {
      "cell_type": "markdown",
      "id": "42c8ef2d",
      "metadata": {
        "id": "42c8ef2d"
      },
      "source": [
        "### Practice Questions\n",
        "1. Merge two DataFrames 'students' and 'marks' on 'ID'.\n",
        "2. Perform left join between two given DataFrames.\n",
        "3. Concatenate two DataFrames vertically and reset the index."
      ]
    },
    {
      "cell_type": "code",
      "execution_count": 22,
      "id": "2f6726a4",
      "metadata": {
        "id": "2f6726a4",
        "outputId": "8c2a973d-cbaf-4c80-e071-efc1ca9d9b1a",
        "colab": {
          "base_uri": "https://localhost:8080/"
        }
      },
      "outputs": [
        {
          "output_type": "stream",
          "name": "stdout",
          "text": [
            "     Name  ID  Marks\n",
            "0  Prerit   1    100\n",
            "1   Ayush   2     99\n",
            "2    Aadi   3     98\n",
            "     Name  ID  Marks\n",
            "0  Prerit   1    100\n",
            "1   Ayush   2     99\n",
            "2    Aadi   3     98\n",
            "     Name  ID  Marks\n",
            "0  Prerit   1    NaN\n",
            "1   Ayush   2    NaN\n",
            "2    Aadi   3    NaN\n",
            "3     NaN   1  100.0\n",
            "4     NaN   2   99.0\n",
            "5     NaN   3   98.0\n"
          ]
        }
      ],
      "source": [
        "# Answer here\n",
        "Students = {\n",
        "    'Name' : ['Prerit', 'Ayush', 'Aadi'],\n",
        "    'ID' : [1,2,3]\n",
        "}\n",
        "Marks = {\n",
        "    'Marks' : [100, 99, 98],\n",
        "    'ID' : [1,2,3]\n",
        "}\n",
        "\n",
        "df_students = pd.DataFrame(Students)\n",
        "df_marks = pd.DataFrame(Marks)\n",
        "merged = pd.merge(df_students, df_marks, on='ID')\n",
        "print(merged)\n",
        "\n",
        "left_join = pd.merge(df_students, df_marks, on='ID', how='left')\n",
        "print(left_join)\n",
        "\n",
        "concat = pd.concat([df_students, df_marks], axis=0, ignore_index=True)\n",
        "print(concat)\n"
      ]
    },
    {
      "cell_type": "markdown",
      "id": "727cdac8",
      "metadata": {
        "id": "727cdac8"
      },
      "source": [
        "## 6. Pivot Tables and GroupBy"
      ]
    },
    {
      "cell_type": "code",
      "execution_count": 24,
      "id": "4397e068",
      "metadata": {
        "id": "4397e068",
        "outputId": "223d4ac4-21cc-4e39-bb9c-822b14d23e23",
        "colab": {
          "base_uri": "https://localhost:8080/"
        }
      },
      "outputs": [
        {
          "output_type": "stream",
          "name": "stdout",
          "text": [
            "Month   Feb  Jan\n",
            "Region          \n",
            "North   400  250\n",
            "South     0  300\n",
            "Region\n",
            "North    650\n",
            "South    300\n",
            "Name: Sales, dtype: int64\n"
          ]
        }
      ],
      "source": [
        "# Example: Pivot and GroupBy\n",
        "df = pd.DataFrame({'Region': ['North', 'South', 'North'],\n",
        "                   'Month': ['Jan', 'Jan', 'Feb'],\n",
        "                   'Sales': [250, 300, 400]\n",
        "                })\n",
        "\n",
        "pivot = df.pivot_table(values='Sales', index='Region', columns='Month', aggfunc='sum', fill_value=0)\n",
        "grouped = df.groupby('Region')['Sales'].sum()\n",
        "print(pivot)\n",
        "print(grouped)"
      ]
    },
    {
      "cell_type": "markdown",
      "id": "30b1a564",
      "metadata": {
        "id": "30b1a564"
      },
      "source": [
        "### Practice Questions\n",
        "1. Group the DataFrame by 'Month' and find total sales.\n",
        "2. Create a pivot table to show Region-wise total sales.\n",
        "3. Group data by 'Region' and count number of entries."
      ]
    },
    {
      "cell_type": "code",
      "execution_count": 25,
      "id": "c1aff9c7",
      "metadata": {
        "id": "c1aff9c7",
        "outputId": "ec8efc85-d382-46d4-c64d-839299c85633",
        "colab": {
          "base_uri": "https://localhost:8080/"
        }
      },
      "outputs": [
        {
          "output_type": "stream",
          "name": "stdout",
          "text": [
            "Month\n",
            "Feb    400\n",
            "Jan    550\n",
            "Name: Sales, dtype: int64\n",
            "        Sales\n",
            "Region       \n",
            "North     650\n",
            "South     300\n",
            "        Month  Sales\n",
            "Region              \n",
            "North       2      2\n",
            "South       1      1\n"
          ]
        }
      ],
      "source": [
        "# Answer here\n",
        "new = df.groupby('Month')['Sales'].sum()\n",
        "print(new)\n",
        "\n",
        "pivot = df.pivot_table(values='Sales', index='Region', aggfunc='sum')\n",
        "print(pivot)\n",
        "\n",
        "grouped = df.groupby('Region').count()\n",
        "print(grouped)"
      ]
    },
    {
      "cell_type": "markdown",
      "id": "9fe2add6",
      "metadata": {
        "id": "9fe2add6"
      },
      "source": [
        "## Optional Practice (Medium Level)\n",
        "These questions test your overall understanding of Pandas."
      ]
    },
    {
      "cell_type": "markdown",
      "id": "b68b2455",
      "metadata": {
        "id": "b68b2455"
      },
      "source": [
        "1. Import a dataset and clean all missing values, rename columns properly, and export it back to Excel.\n",
        "\n",
        "Dataset- https://drive.google.com/file/d/1kw_Sdib3WCo_acQYA851poCUdKcWgfYs/view?usp=sharing"
      ]
    },
    {
      "cell_type": "code",
      "execution_count": 41,
      "id": "54ffdb1e",
      "metadata": {
        "id": "54ffdb1e",
        "outputId": "49113c0b-042a-4ddc-8730-323818d6361b",
        "colab": {
          "base_uri": "https://localhost:8080/"
        }
      },
      "outputs": [
        {
          "output_type": "stream",
          "name": "stdout",
          "text": [
            "      name  age(years)   city  sales(_rs)\n",
            "0     Amit        25.0  Delhi      2500.0\n",
            "4     Neha        28.0   Pune      4000.0\n"
          ]
        }
      ],
      "source": [
        "# Answer here\n",
        "import pandas as pd\n",
        "\n",
        "df = pd.read_csv('/content/messy_data.csv')\n",
        "df = df.dropna()\n",
        "df.columns = df.columns.str.strip().str.lower().str.replace(' ', '_')\n",
        "df.to_excel('final_data.xlsx', index=False)\n",
        "print(df)\n",
        "\n"
      ]
    },
    {
      "cell_type": "markdown",
      "id": "64cef174",
      "metadata": {
        "id": "64cef174"
      },
      "source": [
        "2. Combine multiple CSV files from a folder into one DataFrame and find top 5 entries by a numeric column like 'Sales'.\n",
        "\n",
        "Dataset- https://drive.google.com/drive/folders/1zgJs_6r8Aa_-93YXmYXfxOK5L4hVUI9Q?usp=sharing"
      ]
    },
    {
      "cell_type": "code",
      "execution_count": 37,
      "id": "134e1bba",
      "metadata": {
        "id": "134e1bba",
        "outputId": "cfa45e29-e05f-4389-e6c6-d057a0735601",
        "colab": {
          "base_uri": "https://localhost:8080/"
        }
      },
      "outputs": [
        {
          "output_type": "stream",
          "name": "stdout",
          "text": [
            "0    1300\n",
            "1    1600\n",
            "2    1000\n",
            "3     950\n",
            "4    1750\n",
            "5    1200\n",
            "Name: Sales, dtype: int64\n"
          ]
        }
      ],
      "source": [
        "# Answer here\n",
        "feb = pd.read_csv('/content/sales_feb.csv')\n",
        "jan = pd.read_csv('/content/sales_jan.csv')\n",
        "march = pd.read_csv('/content/sales_mar.csv')\n",
        "\n",
        "df = pd.concat([feb, jan, march], axis=0, ignore_index=True)\n",
        "print(df.loc[0:5, 'Sales'])\n",
        "\n",
        "# or\n",
        "# top5 = df.sort_values(by='Sales', ascending=False).head(5)\n",
        "# print(top5)"
      ]
    }
  ],
  "metadata": {
    "language_info": {
      "name": "python"
    },
    "colab": {
      "provenance": []
    },
    "kernelspec": {
      "name": "python3",
      "display_name": "Python 3"
    }
  },
  "nbformat": 4,
  "nbformat_minor": 5
}